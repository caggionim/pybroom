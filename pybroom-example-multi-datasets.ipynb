{
 "cells": [
  {
   "cell_type": "markdown",
   "metadata": {},
   "source": [
    "# PyBroom Example - Multiple Datasets\n",
    "\n",
    "Example usage for `pybroom`."
   ]
  },
  {
   "cell_type": "code",
   "execution_count": null,
   "metadata": {
    "collapsed": false
   },
   "outputs": [],
   "source": [
    "%matplotlib inline\n",
    "%config InlineBackend.figure_format='retina'  # for hi-dpi displays\n",
    "import numpy as np\n",
    "import pandas as pd\n",
    "import matplotlib.pyplot as plt\n",
    "import seaborn as sns\n",
    "from lmfit import Model\n",
    "import lmfit\n",
    "print('lmfit: %s' % lmfit.__version__)"
   ]
  },
  {
   "cell_type": "code",
   "execution_count": null,
   "metadata": {
    "collapsed": true
   },
   "outputs": [],
   "source": [
    "sns.set_style('whitegrid')"
   ]
  },
  {
   "cell_type": "code",
   "execution_count": null,
   "metadata": {
    "collapsed": true
   },
   "outputs": [],
   "source": [
    "import pybroom as br"
   ]
  },
  {
   "cell_type": "markdown",
   "metadata": {},
   "source": [
    "# Create Noisy Data\n",
    "\n",
    "Simulate *N* datasets which are indentical except for the additive noise."
   ]
  },
  {
   "cell_type": "code",
   "execution_count": null,
   "metadata": {
    "collapsed": true
   },
   "outputs": [],
   "source": [
    "N = 20"
   ]
  },
  {
   "cell_type": "code",
   "execution_count": null,
   "metadata": {
    "collapsed": false
   },
   "outputs": [],
   "source": [
    "x = np.linspace(-10, 10, 101)"
   ]
  },
  {
   "cell_type": "code",
   "execution_count": null,
   "metadata": {
    "collapsed": false
   },
   "outputs": [],
   "source": [
    "peak1 = lmfit.models.GaussianModel(prefix='p1_')\n",
    "peak2 = lmfit.models.GaussianModel(prefix='p2_')\n",
    "model = peak1 + peak2"
   ]
  },
  {
   "cell_type": "code",
   "execution_count": null,
   "metadata": {
    "collapsed": false
   },
   "outputs": [],
   "source": [
    "#params = model.make_params(p1_amplitude=1.5, p2_amplitude=1, \n",
    "#                           p1_sigma=1, p2_sigma=1)"
   ]
  },
  {
   "cell_type": "code",
   "execution_count": null,
   "metadata": {
    "collapsed": false
   },
   "outputs": [],
   "source": [
    "Y_data = np.zeros((N, x.size))\n",
    "Y_data.shape"
   ]
  },
  {
   "cell_type": "code",
   "execution_count": null,
   "metadata": {
    "collapsed": false
   },
   "outputs": [],
   "source": [
    "for i in range(Y_data.shape[0]):\n",
    "    Y_data[i] = model.eval(x=x, p1_center=-1, p2_center=2, \n",
    "                           p1_sigma=0.5, p2_sigma=1.5, \n",
    "                           p1_height=1, p2_height=0.5)\n",
    "Y_data += np.random.randn(*Y_data.shape)/10"
   ]
  },
  {
   "cell_type": "code",
   "execution_count": null,
   "metadata": {
    "collapsed": false
   },
   "outputs": [],
   "source": [
    "plt.plot(x, Y_data.T, '-k', alpha=0.1);"
   ]
  },
  {
   "cell_type": "markdown",
   "metadata": {},
   "source": [
    "# Model Fitting\n",
    "\n",
    "## Single-peak model"
   ]
  },
  {
   "cell_type": "code",
   "execution_count": null,
   "metadata": {
    "collapsed": true
   },
   "outputs": [],
   "source": [
    "model1 = lmfit.models.GaussianModel()"
   ]
  },
  {
   "cell_type": "code",
   "execution_count": null,
   "metadata": {
    "collapsed": false
   },
   "outputs": [],
   "source": [
    "Results1 = [model1.fit(y, x=x) for y in Y_data]"
   ]
  },
  {
   "cell_type": "markdown",
   "metadata": {},
   "source": [
    "## Two-peaks model"
   ]
  },
  {
   "cell_type": "code",
   "execution_count": null,
   "metadata": {
    "collapsed": true
   },
   "outputs": [],
   "source": [
    "params = model.make_params(p1_center=0, p2_center=3, \n",
    "                           p1_sigma=0.5, p2_sigma=1, \n",
    "                           p1_amplitude=1, p2_amplitude=2)"
   ]
  },
  {
   "cell_type": "code",
   "execution_count": null,
   "metadata": {
    "collapsed": false
   },
   "outputs": [],
   "source": [
    "Results = [model.fit(y, x=x, params=params) for y in Y_data]"
   ]
  },
  {
   "cell_type": "markdown",
   "metadata": {},
   "source": [
    "Fit result from an lmfit `Model` can be inspected with\n",
    "with `fit_report` or `params.pretty_print()`:"
   ]
  },
  {
   "cell_type": "code",
   "execution_count": null,
   "metadata": {
    "collapsed": false
   },
   "outputs": [],
   "source": [
    "#print(Results[0].fit_report())\n",
    "#Results[0].params.pretty_print()"
   ]
  },
  {
   "cell_type": "markdown",
   "metadata": {},
   "source": [
    "These methods are convenient but extracting the data\n",
    "from the lmfit object requires some work and the knowledge\n",
    "of lmfit object structure.\n",
    "\n",
    "`pybroom` help in this task, extracting data from fit results and\n",
    "returning pandas DataFrame in tidy format that can be \n",
    "much more easily manipulated, filtered and plotted."
   ]
  },
  {
   "cell_type": "markdown",
   "metadata": {},
   "source": [
    "## Glance\n",
    "\n",
    "A summary of the two-peaks model fit:"
   ]
  },
  {
   "cell_type": "code",
   "execution_count": null,
   "metadata": {
    "collapsed": false
   },
   "outputs": [],
   "source": [
    "dg = br.glance(Results)\n",
    "\n",
    "dg.drop('name', 1).drop('message', 1).head()"
   ]
  },
  {
   "cell_type": "markdown",
   "metadata": {},
   "source": [
    "A summary of the one-peak model fit:"
   ]
  },
  {
   "cell_type": "code",
   "execution_count": null,
   "metadata": {
    "collapsed": false
   },
   "outputs": [],
   "source": [
    "dg1 = br.glance(Results1)\n",
    "\n",
    "dg1.drop('name', 1).drop('message', 1).head()"
   ]
  },
  {
   "cell_type": "markdown",
   "metadata": {},
   "source": [
    "## Tidy\n",
    "\n",
    "Tidy fit results for all the parameters:"
   ]
  },
  {
   "cell_type": "code",
   "execution_count": null,
   "metadata": {
    "collapsed": false
   },
   "outputs": [],
   "source": [
    "dt = br.tidy(Results, var_name='dataset')"
   ]
  },
  {
   "cell_type": "markdown",
   "metadata": {},
   "source": [
    "Let's see the results for a single dataset:"
   ]
  },
  {
   "cell_type": "code",
   "execution_count": null,
   "metadata": {
    "collapsed": false
   },
   "outputs": [],
   "source": [
    "dt.query('dataset == 0')"
   ]
  },
  {
   "cell_type": "markdown",
   "metadata": {},
   "source": [
    "or for a single parameter across datasets:"
   ]
  },
  {
   "cell_type": "code",
   "execution_count": null,
   "metadata": {
    "collapsed": false
   },
   "outputs": [],
   "source": [
    "dt.query('name == \"p1_center\"').head()"
   ]
  },
  {
   "cell_type": "code",
   "execution_count": null,
   "metadata": {
    "collapsed": false
   },
   "outputs": [],
   "source": [
    "dt.query('name == \"p1_center\"')['value'].std()"
   ]
  },
  {
   "cell_type": "code",
   "execution_count": null,
   "metadata": {
    "collapsed": false
   },
   "outputs": [],
   "source": [
    "dt.query('name == \"p2_center\"')['value'].std()"
   ]
  },
  {
   "cell_type": "markdown",
   "metadata": {},
   "source": [
    "Note that there is a much larger error in fitting `p2_center`\n",
    "than `p1_center`."
   ]
  },
  {
   "cell_type": "code",
   "execution_count": null,
   "metadata": {
    "collapsed": false
   },
   "outputs": [],
   "source": [
    "dt.query('name == \"p1_center\"')['value'].hist()\n",
    "dt.query('name == \"p2_center\"')['value'].hist(ax=plt.gca());"
   ]
  },
  {
   "cell_type": "markdown",
   "metadata": {},
   "source": [
    "## Augment\n",
    "\n",
    "Tidy dataframe with data function of the independent variable ('x'). Columns include\n",
    "the data being fitted, best fit, best fit components, residuals, etc."
   ]
  },
  {
   "cell_type": "code",
   "execution_count": null,
   "metadata": {
    "collapsed": true
   },
   "outputs": [],
   "source": [
    "da = br.augment(Results, var_name='dataset')"
   ]
  },
  {
   "cell_type": "code",
   "execution_count": null,
   "metadata": {
    "collapsed": true
   },
   "outputs": [],
   "source": [
    "da1 = br.augment(Results1, var_name='dataset')"
   ]
  },
  {
   "cell_type": "markdown",
   "metadata": {},
   "source": [
    "Let's see the results for a single dataset:"
   ]
  },
  {
   "cell_type": "code",
   "execution_count": null,
   "metadata": {
    "collapsed": false
   },
   "outputs": [],
   "source": [
    "da.query('dataset == 0').head()"
   ]
  },
  {
   "cell_type": "markdown",
   "metadata": {},
   "source": [
    "Plotting a single dataset is simplified compared to a manual plot:"
   ]
  },
  {
   "cell_type": "code",
   "execution_count": null,
   "metadata": {
    "collapsed": false
   },
   "outputs": [],
   "source": [
    "da0 = da.query('dataset == 0')"
   ]
  },
  {
   "cell_type": "code",
   "execution_count": null,
   "metadata": {
    "collapsed": false
   },
   "outputs": [],
   "source": [
    "plt.plot('x', 'data', data=da0, marker='o', ls='None')\n",
    "plt.plot('x', \"Model(gaussian, prefix='p1_')\", data=da0, lw=2, ls='--')\n",
    "plt.plot('x', \"Model(gaussian, prefix='p2_')\", data=da0, lw=2, ls='--')\n",
    "plt.plot('x', 'best_fit', data=da0, lw=2);\n",
    "plt.legend()"
   ]
  },
  {
   "cell_type": "markdown",
   "metadata": {},
   "source": [
    "But keep in mind that, for a single dataset, we could\n",
    "use the lmfit method as well (which is even simpler):"
   ]
  },
  {
   "cell_type": "code",
   "execution_count": null,
   "metadata": {
    "collapsed": false
   },
   "outputs": [],
   "source": [
    "Results[0].plot_fit();"
   ]
  },
  {
   "cell_type": "markdown",
   "metadata": {},
   "source": [
    "However, things become much more interesting when we want to plot multiple\n",
    "datasets or models as in the next section."
   ]
  },
  {
   "cell_type": "markdown",
   "metadata": {},
   "source": [
    "### Comparison of different datasets"
   ]
  },
  {
   "cell_type": "code",
   "execution_count": null,
   "metadata": {
    "collapsed": false
   },
   "outputs": [],
   "source": [
    "grid = sns.FacetGrid(da.query('dataset < 6'), col=\"dataset\", hue=\"dataset\", col_wrap=3)\n",
    "grid.map(plt.plot, 'x', 'data', marker='o', ls='None', ms=3, color='k')\n",
    "grid.map(plt.plot, 'x', \"Model(gaussian, prefix='p1_')\", ls='--')\n",
    "grid.map(plt.plot, 'x', \"Model(gaussian, prefix='p2_')\", ls='--')\n",
    "grid.map(plt.plot, \"x\", \"best_fit\");"
   ]
  },
  {
   "cell_type": "markdown",
   "metadata": {},
   "source": [
    "### Comparison of one- or two-peaks models"
   ]
  },
  {
   "cell_type": "markdown",
   "metadata": {},
   "source": [
    "Here we plot a comparison of the two fitted models (one or two peaks)\n",
    "for different datasets.\n",
    "\n",
    "First we create a single tidy DataFrame with data from the two models:"
   ]
  },
  {
   "cell_type": "code",
   "execution_count": null,
   "metadata": {
    "collapsed": false
   },
   "outputs": [],
   "source": [
    "da['model'] = 'twopeaks'\n",
    "da1['model'] = 'onepeak'\n",
    "da_tot = pd.concat([da, da1], ignore_index=True)"
   ]
  },
  {
   "cell_type": "markdown",
   "metadata": {},
   "source": [
    "Then we perfom a facet plot with seaborn:"
   ]
  },
  {
   "cell_type": "code",
   "execution_count": null,
   "metadata": {
    "collapsed": false
   },
   "outputs": [],
   "source": [
    "grid = sns.FacetGrid(da_tot.query('dataset < 6'), col=\"dataset\", hue=\"model\", col_wrap=3)\n",
    "grid.map(plt.plot, 'x', 'data', marker='o', ls='None', ms=3, color='k')\n",
    "grid.map(plt.plot, \"x\", \"best_fit\")\n",
    "grid.add_legend();"
   ]
  },
  {
   "cell_type": "markdown",
   "metadata": {},
   "source": [
    "While it is possible (in principle) to create the previous plots \n",
    "wihtout tidy data, it would require a great amount of custom \n",
    "non-reusable plot code.\n",
    "With tidy, instead, data complex plots becomes trivial and the syntax is\n",
    "general."
   ]
  }
 ],
 "metadata": {
  "kernelspec": {
   "display_name": "Python 3",
   "language": "python",
   "name": "python3"
  },
  "language_info": {
   "codemirror_mode": {
    "name": "ipython",
    "version": 3
   },
   "file_extension": ".py",
   "mimetype": "text/x-python",
   "name": "python",
   "nbconvert_exporter": "python",
   "pygments_lexer": "ipython3",
   "version": "3.5.2"
  }
 },
 "nbformat": 4,
 "nbformat_minor": 0
}
