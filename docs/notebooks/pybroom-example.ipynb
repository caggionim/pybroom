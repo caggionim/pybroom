{
 "cells": [
  {
   "cell_type": "markdown",
   "metadata": {},
   "source": [
    "# PyBroom Example - Simple"
   ]
  },
  {
   "cell_type": "markdown",
   "metadata": {
    "raw_mimetype": "text/markdown"
   },
   "source": [
    "*This notebook is part of* [pybroom](https://github.com/tritemio/pybroom).\n",
    "\n",
    ">This notebook shows the simplest usage of *pybroom* when performing\n",
    ">a curve fit of a single dataset. Possible applications are only hinted.\n",
    ">For a more complex (and interesting!) example using multiple datasets see\n",
    ">[pybroom-example-multi-datasets](pybroom-example-multi-datasets.ipynb)."
   ]
  },
  {
   "cell_type": "code",
   "execution_count": null,
   "metadata": {
    "collapsed": true
   },
   "outputs": [],
   "source": [
    "import numpy as np\n",
    "from numpy import sqrt, pi, exp, linspace\n",
    "from lmfit import Model\n",
    "import matplotlib.pyplot as plt\n",
    "%matplotlib inline\n",
    "%config InlineBackend.figure_format='retina'  # for hi-dpi displays"
   ]
  },
  {
   "cell_type": "code",
   "execution_count": null,
   "metadata": {
    "collapsed": false
   },
   "outputs": [],
   "source": [
    "import lmfit\n",
    "print('lmfit: %s' % lmfit.__version__)"
   ]
  },
  {
   "cell_type": "code",
   "execution_count": null,
   "metadata": {
    "collapsed": true
   },
   "outputs": [],
   "source": [
    "import pybroom as br"
   ]
  },
  {
   "cell_type": "markdown",
   "metadata": {},
   "source": [
    "## Create Noisy Data"
   ]
  },
  {
   "cell_type": "code",
   "execution_count": null,
   "metadata": {
    "collapsed": false
   },
   "outputs": [],
   "source": [
    "x = np.linspace(-10, 10, 101)"
   ]
  },
  {
   "cell_type": "code",
   "execution_count": null,
   "metadata": {
    "collapsed": false
   },
   "outputs": [],
   "source": [
    "peak1 = lmfit.models.GaussianModel(prefix='p1_')\n",
    "peak2 = lmfit.models.GaussianModel(prefix='p2_')\n",
    "model = peak1 + peak2"
   ]
  },
  {
   "cell_type": "code",
   "execution_count": null,
   "metadata": {
    "collapsed": false
   },
   "outputs": [],
   "source": [
    "params = model.make_params(p1_amplitude=1, p2_amplitude=1, \n",
    "                           p1_sigma=1, p2_sigma=1)"
   ]
  },
  {
   "cell_type": "code",
   "execution_count": null,
   "metadata": {
    "collapsed": false
   },
   "outputs": [],
   "source": [
    "y_data = model.eval(x=x, p1_center=-1, p2_center=2, p1_sigma=0.5, p2_sigma=1, p1_amplitude=1, p2_amplitude=2)\n",
    "y_data.shape"
   ]
  },
  {
   "cell_type": "code",
   "execution_count": null,
   "metadata": {
    "collapsed": false
   },
   "outputs": [],
   "source": [
    "y_data += np.random.randn(*y_data.shape)/10"
   ]
  },
  {
   "cell_type": "code",
   "execution_count": null,
   "metadata": {
    "collapsed": false
   },
   "outputs": [],
   "source": [
    "plt.plot(x, y_data)"
   ]
  },
  {
   "cell_type": "markdown",
   "metadata": {},
   "source": [
    "## Model Fitting"
   ]
  },
  {
   "cell_type": "code",
   "execution_count": null,
   "metadata": {
    "collapsed": false
   },
   "outputs": [],
   "source": [
    "params = model.make_params(p1_center=0, p2_center=3, \n",
    "                           p1_sigma=0.5, p2_sigma=1, \n",
    "                           p1_amplitude=1, p2_amplitude=2)\n",
    "result = model.fit(y_data, x=x, params=params)"
   ]
  },
  {
   "cell_type": "markdown",
   "metadata": {},
   "source": [
    "Fit result from an lmfit `Model` can be inspected with\n",
    "with `fit_report` or `params.pretty_print()`:"
   ]
  },
  {
   "cell_type": "code",
   "execution_count": null,
   "metadata": {
    "collapsed": false
   },
   "outputs": [],
   "source": [
    "print(result.fit_report())"
   ]
  },
  {
   "cell_type": "code",
   "execution_count": null,
   "metadata": {
    "collapsed": false
   },
   "outputs": [],
   "source": [
    "result.params.pretty_print()"
   ]
  },
  {
   "cell_type": "markdown",
   "metadata": {},
   "source": [
    "These methods a re convenient but extracting the data\n",
    "from the lmfit object requires some work and the knowledge\n",
    "of lmfit object structure.\n",
    "\n",
    "pybroom comes to help, extracting data from fit results and\n",
    "returning  pandas DataFrame in tidy format that can be \n",
    "much more easily manipulated, filtered and plotted."
   ]
  },
  {
   "cell_type": "markdown",
   "metadata": {},
   "source": [
    "### Glance\n",
    "\n",
    "Glancing at the fit results (dropping some verbose columns):"
   ]
  },
  {
   "cell_type": "code",
   "execution_count": null,
   "metadata": {
    "collapsed": false
   },
   "outputs": [],
   "source": [
    "dg = br.glance(result)\n",
    "dg.drop('model', 1).drop('message', 1)"
   ]
  },
  {
   "cell_type": "markdown",
   "metadata": {},
   "source": [
    "The [glance](http://pybroom.readthedocs.io/en/latest/api.html#pybroom.glance) \n",
    "function returns a DataFrame with one row per fit-result object."
   ]
  },
  {
   "cell_type": "markdown",
   "metadata": {},
   "source": [
    "#### Application Idea\n",
    "\n",
    "If you fit *N* models to the same dataset\n",
    "you can compare statistics such as reduced-$\\chi^2$\n",
    "\n",
    "Or, fitting several with several methods (and datasets) you\n",
    "can study the convergence properties using reduced-$\\chi^2$,\n",
    "number of function evaluation and success rate."
   ]
  },
  {
   "cell_type": "markdown",
   "metadata": {},
   "source": [
    "### Tidy\n",
    "\n",
    "Tidy fit results for all the parameters:"
   ]
  },
  {
   "cell_type": "code",
   "execution_count": null,
   "metadata": {
    "collapsed": false
   },
   "outputs": [],
   "source": [
    "dt = br.tidy(result)\n",
    "dt"
   ]
  },
  {
   "cell_type": "markdown",
   "metadata": {},
   "source": [
    "The [tidy](http://pybroom.readthedocs.io/en/latest/api.html#pybroom.tidy) function returns one row for each parameter."
   ]
  },
  {
   "cell_type": "code",
   "execution_count": null,
   "metadata": {
    "collapsed": false
   },
   "outputs": [],
   "source": [
    "dt.loc[dt.name == 'p1_center']"
   ]
  },
  {
   "cell_type": "markdown",
   "metadata": {},
   "source": [
    "### Augment\n",
    "\n",
    "Tidy dataframe with data function of the independent variable ('x'). Columns include\n",
    "the data being fitted, best fit, best fit components, residuals, etc."
   ]
  },
  {
   "cell_type": "code",
   "execution_count": null,
   "metadata": {
    "collapsed": false
   },
   "outputs": [],
   "source": [
    "da = br.augment(result)\n",
    "da.head()"
   ]
  },
  {
   "cell_type": "markdown",
   "metadata": {},
   "source": [
    "The [augment]() function returns one row for each data point."
   ]
  },
  {
   "cell_type": "code",
   "execution_count": null,
   "metadata": {
    "collapsed": true
   },
   "outputs": [],
   "source": [
    "d = br.augment(result)"
   ]
  },
  {
   "cell_type": "code",
   "execution_count": null,
   "metadata": {
    "collapsed": false
   },
   "outputs": [],
   "source": [
    "fig, ax = plt.subplots(2, 1, figsize=(7, 8))\n",
    "ax[1].plot('x', 'data', data=d, marker='o', ls='None')\n",
    "ax[1].plot('x', \"Model(gaussian, prefix='p1_')\", data=d, lw=2, ls='--')\n",
    "ax[1].plot('x', \"Model(gaussian, prefix='p2_')\", data=d, lw=2, ls='--')\n",
    "ax[1].plot('x', 'best_fit', data=d, lw=2)\n",
    "ax[0].plot('x', 'residual', data=d);"
   ]
  },
  {
   "cell_type": "markdown",
   "metadata": {},
   "source": [
    "#### Application Idea\n",
    "\n",
    "Fitting *N* datasets with the same model (or *N* models with the same dataset) \n",
    "you can automatically build a panel plot with `seaborn` using the dataset (or the model) \n",
    "as categorical variable.\n",
    "This example is illustrated in [pybroom-example-multi-datasets](pybroom-example-multi-datasets.ipynb)."
   ]
  }
 ],
 "metadata": {
  "kernelspec": {
   "display_name": "Python 3",
   "language": "python",
   "name": "python3"
  },
  "language_info": {
   "codemirror_mode": {
    "name": "ipython",
    "version": 3
   },
   "file_extension": ".py",
   "mimetype": "text/x-python",
   "name": "python",
   "nbconvert_exporter": "python",
   "pygments_lexer": "ipython3",
   "version": "3.5.2"
  }
 },
 "nbformat": 4,
 "nbformat_minor": 0
}
